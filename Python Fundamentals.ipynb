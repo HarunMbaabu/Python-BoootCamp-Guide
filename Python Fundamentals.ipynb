{
 "cells": [
  {
   "cell_type": "markdown",
   "id": "3241957e",
   "metadata": {},
   "source": [
    "### **Python Fundamentals.**\n",
    "\n",
    "**Python** is a popular programming language known for its simplicity and readability. It supports various programming techniques and falls under the category of high-level, interpreted languages.\n",
    "\n",
    "Here are some fundamental concepts in Python:\n",
    "\n",
    "**Variables:**\n",
    "- In Python, variables are used to store values. You can define a variable by assigning a value to it using the '=' operator.\n",
    "\n",
    "For example:\n",
    "\n",
    "```python\n",
    "\n",
    "name = \"John\"\n",
    "age = 25\n",
    "\n",
    "```\n",
    "\n",
    "**Comments:**\n",
    "- Comments are used to add explanatory notes to the code. They are ignored by the interpreter. In Python, you can write single-line comments using the '#' symbol and multi-line comments using triple quotes (''' '''). \n",
    "\n",
    "For example:\n",
    "\n",
    "```python \n",
    "\n",
    "# This is a single-line comment\n",
    "\n",
    "'''\n",
    "This is a\n",
    "multi-line comment (This is called docstring in Python, not excecuted unless when called)\n",
    "'''\n",
    "\n",
    "```\n",
    "\n",
    "**Keywords:** \n",
    "- Python has a set of reserved words called keywords that have predefined meanings in the language. Examples of keywords include 'if', 'else', 'for', 'while', 'def', 'class', etc. You cannot use keywords as identifiers (variable names).\n",
    "\n",
    "**Identifiers:**\n",
    "- Identifiers are names given to entities such as variables, functions, classes, etc. \n",
    "\n",
    "In Python, identifiers must follow certain rules:\n",
    "\n",
    "- They can contain letters (a-z, A-Z), digits (0-9), and underscores (_).\n",
    "- They cannot start with a digit.\n",
    "- They are case-sensitive (e.g., 'name' and 'Name' are different identifiers).\n",
    "\n",
    "**Literals:**\n",
    "- Literals are raw values used in the code. Examples include string literals (\"hello\"), numeric literals (25, 3.14), boolean literals (True, False), and more.\n",
    "\n",
    "**Built-in Functions:**\n",
    "- Python provides a rich set of built-in functions that are readily available for use. One of the most commonly used functions is print(), which is used to display output to the console.\n",
    "\n",
    "For example:\n",
    "\n",
    "```python\n",
    " print(\"Hello, world!\")\n",
    "```\n",
    "\n",
    "**Operators:**\n",
    "- Python supports various operators for performing operations on variables and values. Some common operators include arithmetic operators (+, -, *, /), assignment operators (=, +=, -=), comparison operators (==, !=, >, <), logical operators (and, or, not), and more.\n",
    "\n",
    "**PEP8:**\n",
    "- PEP8 is a style guide for Python code, which suggests guidelines and conventions to improve code readability and maintainability. It covers aspects such as indentation, line length, naming conventions, and more. Adhering to PEP8 helps in writing clean and consistent Python code."
   ]
  },
  {
   "cell_type": "markdown",
   "id": "c917509e",
   "metadata": {},
   "source": [
    "These are just some of the fundamental concepts in Python programming. Python offers many more features and libraries that make it a versatile language for various applications"
   ]
  },
  {
   "cell_type": "code",
   "execution_count": 2,
   "id": "6dc80cfe",
   "metadata": {},
   "outputs": [
    {
     "name": "stdout",
     "output_type": "stream",
     "text": [
      "John 25\n"
     ]
    }
   ],
   "source": [
    "#Varaibles:\n",
    "name = \"John\"\n",
    "age = 25\n",
    "\n",
    "print(name, age)"
   ]
  },
  {
   "cell_type": "code",
   "execution_count": 3,
   "id": "39a9ac89",
   "metadata": {},
   "outputs": [
    {
     "data": {
      "text/plain": [
       "'\\nThis is a\\nmulti-line comment\\n'"
      ]
     },
     "execution_count": 3,
     "metadata": {},
     "output_type": "execute_result"
    }
   ],
   "source": [
    "#Comment In Python \n",
    "\n",
    "# This is a single-line comment\n",
    "\n",
    "'''\n",
    "This is a\n",
    "multi-line comment\n",
    "'''"
   ]
  }
 ],
 "metadata": {
  "kernelspec": {
   "display_name": "Python 3 (ipykernel)",
   "language": "python",
   "name": "python3"
  },
  "language_info": {
   "codemirror_mode": {
    "name": "ipython",
    "version": 3
   },
   "file_extension": ".py",
   "mimetype": "text/x-python",
   "name": "python",
   "nbconvert_exporter": "python",
   "pygments_lexer": "ipython3",
   "version": "3.9.7"
  }
 },
 "nbformat": 4,
 "nbformat_minor": 5
}
